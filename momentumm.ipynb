{
 "cells": [
  {
   "cell_type": "code",
   "execution_count": 1,
   "metadata": {},
   "outputs": [
    {
     "name": "stderr",
     "output_type": "stream",
     "text": [
      "/Users/nidhi/opt/anaconda3/lib/python3.8/site-packages/pandas/core/computation/expressions.py:20: UserWarning: Pandas requires version '2.7.3' or newer of 'numexpr' (version '2.7.1' currently installed).\n",
      "  from pandas.core.computation.check import NUMEXPR_INSTALLED\n"
     ]
    }
   ],
   "source": [
    "#Importing libraries\n",
    "from functools import partial\n",
    "import pandas as pd\n",
    "import numpy as np\n",
    "import seaborn as sns\n",
    "import statsmodels.api as sm\n",
    "import matplotlib.pyplot as plt\n",
    "import jinja2\n",
    "\n",
    "import sys\n",
    "if '../cmds/' not in sys.path:\n",
    "    sys.path.append('../cmds/')\n",
    "import warnings\n",
    "warnings.filterwarnings(\"ignore\")\n",
    "\n"
   ]
  },
  {
   "cell_type": "code",
   "execution_count": 2,
   "metadata": {},
   "outputs": [],
   "source": [
    "#Helper Function\n",
    "def summary_statistics_annualized(returns, annual_factor = 12):\n",
    "    \"\"\"This functions returns the summary statistics for the input total/excess returns passed\n",
    "    into the function\"\"\"\n",
    "    \n",
    "    summary_statistics = pd.DataFrame(index=returns.columns)\n",
    "    summary_statistics['Mean'] = returns.mean() * annual_factor\n",
    "    summary_statistics['Vol'] = returns.std() * np.sqrt(annual_factor)\n",
    "    summary_statistics['Sharpe'] = (returns.mean() / returns.std()) * np.sqrt(annual_factor)\n",
    "    summary_statistics['Skewness'] = returns.skew()\n",
    "    \n",
    "    return summary_statistics"
   ]
  },
  {
   "cell_type": "code",
   "execution_count": 3,
   "metadata": {},
   "outputs": [],
   "source": [
    "#Reading the data\n",
    "barnstable_data = pd.read_excel(\"/Users/nidhi/Desktop/Portfolio Risk Managment/barnstable_analysis_data.xlsx\",sheet_name = 'data').set_index('date')"
   ]
  },
  {
   "cell_type": "code",
   "execution_count": 6,
   "metadata": {},
   "outputs": [
    {
     "data": {
      "text/html": [
       "<div>\n",
       "<style scoped>\n",
       "    .dataframe tbody tr th:only-of-type {\n",
       "        vertical-align: middle;\n",
       "    }\n",
       "\n",
       "    .dataframe tbody tr th {\n",
       "        vertical-align: top;\n",
       "    }\n",
       "\n",
       "    .dataframe thead th {\n",
       "        text-align: right;\n",
       "    }\n",
       "</style>\n",
       "<table border=\"1\" class=\"dataframe\">\n",
       "  <thead>\n",
       "    <tr style=\"text-align: right;\">\n",
       "      <th></th>\n",
       "      <th>SPX</th>\n",
       "      <th>TB1M</th>\n",
       "      <th>excess_returns</th>\n",
       "    </tr>\n",
       "    <tr>\n",
       "      <th>date</th>\n",
       "      <th></th>\n",
       "      <th></th>\n",
       "      <th></th>\n",
       "    </tr>\n",
       "  </thead>\n",
       "  <tbody>\n",
       "    <tr>\n",
       "      <th>1926-01-30</th>\n",
       "      <td>-0.001783</td>\n",
       "      <td>0.003061</td>\n",
       "      <td>-0.004844</td>\n",
       "    </tr>\n",
       "    <tr>\n",
       "      <th>1926-02-27</th>\n",
       "      <td>-0.033297</td>\n",
       "      <td>0.002612</td>\n",
       "      <td>-0.035909</td>\n",
       "    </tr>\n",
       "    <tr>\n",
       "      <th>1926-03-31</th>\n",
       "      <td>-0.057708</td>\n",
       "      <td>0.002601</td>\n",
       "      <td>-0.060309</td>\n",
       "    </tr>\n",
       "    <tr>\n",
       "      <th>1926-04-30</th>\n",
       "      <td>0.038522</td>\n",
       "      <td>0.002270</td>\n",
       "      <td>0.036252</td>\n",
       "    </tr>\n",
       "    <tr>\n",
       "      <th>1926-05-28</th>\n",
       "      <td>0.013623</td>\n",
       "      <td>0.002691</td>\n",
       "      <td>0.010932</td>\n",
       "    </tr>\n",
       "  </tbody>\n",
       "</table>\n",
       "</div>"
      ],
      "text/plain": [
       "                 SPX      TB1M  excess_returns\n",
       "date                                          \n",
       "1926-01-30 -0.001783  0.003061       -0.004844\n",
       "1926-02-27 -0.033297  0.002612       -0.035909\n",
       "1926-03-31 -0.057708  0.002601       -0.060309\n",
       "1926-04-30  0.038522  0.002270        0.036252\n",
       "1926-05-28  0.013623  0.002691        0.010932"
      ]
     },
     "execution_count": 6,
     "metadata": {},
     "output_type": "execute_result"
    }
   ],
   "source": [
    "#Creating excess returns column\n",
    "barnstable_data['excess_returns'] = barnstable_data['SPX'] - barnstable_data['TB1M'] \n",
    "rets = barnstable_data['excess_returns']\n",
    "barnstable_data.head()"
   ]
  },
  {
   "cell_type": "code",
   "execution_count": 7,
   "metadata": {},
   "outputs": [
    {
     "data": {
      "text/html": [
       "<style type=\"text/css\">\n",
       "</style>\n",
       "<table id=\"T_4e010\">\n",
       "  <thead>\n",
       "    <tr>\n",
       "      <th class=\"blank\" >&nbsp;</th>\n",
       "      <th class=\"blank level0\" >&nbsp;</th>\n",
       "      <th id=\"T_4e010_level0_col0\" class=\"col_heading level0 col0\" colspan=\"2\">1965 - 1999</th>\n",
       "      <th id=\"T_4e010_level0_col2\" class=\"col_heading level0 col2\" colspan=\"2\">2000 - 2024</th>\n",
       "      <th id=\"T_4e010_level0_col4\" class=\"col_heading level0 col4\" colspan=\"2\">1926 - 2024</th>\n",
       "    </tr>\n",
       "    <tr>\n",
       "      <th class=\"blank\" >&nbsp;</th>\n",
       "      <th class=\"blank level1\" >&nbsp;</th>\n",
       "      <th id=\"T_4e010_level1_col0\" class=\"col_heading level1 col0\" >mean</th>\n",
       "      <th id=\"T_4e010_level1_col1\" class=\"col_heading level1 col1\" >vol</th>\n",
       "      <th id=\"T_4e010_level1_col2\" class=\"col_heading level1 col2\" >mean</th>\n",
       "      <th id=\"T_4e010_level1_col3\" class=\"col_heading level1 col3\" >vol</th>\n",
       "      <th id=\"T_4e010_level1_col4\" class=\"col_heading level1 col4\" >mean</th>\n",
       "      <th id=\"T_4e010_level1_col5\" class=\"col_heading level1 col5\" >vol</th>\n",
       "    </tr>\n",
       "  </thead>\n",
       "  <tbody>\n",
       "    <tr>\n",
       "      <th id=\"T_4e010_level0_row0\" class=\"row_heading level0 row0\" rowspan=\"3\">levels</th>\n",
       "      <th id=\"T_4e010_level1_row0\" class=\"row_heading level1 row0\" >SPX</th>\n",
       "      <td id=\"T_4e010_row0_col0\" class=\"data row0 col0\" >12.94%</td>\n",
       "      <td id=\"T_4e010_row0_col1\" class=\"data row0 col1\" >14.94%</td>\n",
       "      <td id=\"T_4e010_row0_col2\" class=\"data row0 col2\" >8.73%</td>\n",
       "      <td id=\"T_4e010_row0_col3\" class=\"data row0 col3\" >15.31%</td>\n",
       "      <td id=\"T_4e010_row0_col4\" class=\"data row0 col4\" >11.55%</td>\n",
       "      <td id=\"T_4e010_row0_col5\" class=\"data row0 col5\" >18.68%</td>\n",
       "    </tr>\n",
       "    <tr>\n",
       "      <th id=\"T_4e010_level1_row1\" class=\"row_heading level1 row1\" >TB1M</th>\n",
       "      <td id=\"T_4e010_row1_col0\" class=\"data row1 col0\" >6.15%</td>\n",
       "      <td id=\"T_4e010_row1_col1\" class=\"data row1 col1\" >0.72%</td>\n",
       "      <td id=\"T_4e010_row1_col2\" class=\"data row1 col2\" >1.72%</td>\n",
       "      <td id=\"T_4e010_row1_col3\" class=\"data row1 col3\" >0.55%</td>\n",
       "      <td id=\"T_4e010_row1_col4\" class=\"data row1 col4\" >3.19%</td>\n",
       "      <td id=\"T_4e010_row1_col5\" class=\"data row1 col5\" >0.85%</td>\n",
       "    </tr>\n",
       "    <tr>\n",
       "      <th id=\"T_4e010_level1_row2\" class=\"row_heading level1 row2\" >excess_returns</th>\n",
       "      <td id=\"T_4e010_row2_col0\" class=\"data row2 col0\" >6.87%</td>\n",
       "      <td id=\"T_4e010_row2_col1\" class=\"data row2 col1\" >15.02%</td>\n",
       "      <td id=\"T_4e010_row2_col2\" class=\"data row2 col2\" >7.01%</td>\n",
       "      <td id=\"T_4e010_row2_col3\" class=\"data row2 col3\" >15.33%</td>\n",
       "      <td id=\"T_4e010_row2_col4\" class=\"data row2 col4\" >8.33%</td>\n",
       "      <td id=\"T_4e010_row2_col5\" class=\"data row2 col5\" >18.75%</td>\n",
       "    </tr>\n",
       "    <tr>\n",
       "      <th id=\"T_4e010_level0_row3\" class=\"row_heading level0 row3\" rowspan=\"3\">logs</th>\n",
       "      <th id=\"T_4e010_level1_row3\" class=\"row_heading level1 row3\" >SPX</th>\n",
       "      <td id=\"T_4e010_row3_col0\" class=\"data row3 col0\" >11.76%</td>\n",
       "      <td id=\"T_4e010_row3_col1\" class=\"data row3 col1\" >14.96%</td>\n",
       "      <td id=\"T_4e010_row3_col2\" class=\"data row3 col2\" >7.53%</td>\n",
       "      <td id=\"T_4e010_row3_col3\" class=\"data row3 col3\" >15.40%</td>\n",
       "      <td id=\"T_4e010_row3_col4\" class=\"data row3 col4\" >9.78%</td>\n",
       "      <td id=\"T_4e010_row3_col5\" class=\"data row3 col5\" >18.61%</td>\n",
       "    </tr>\n",
       "    <tr>\n",
       "      <th id=\"T_4e010_level1_row4\" class=\"row_heading level1 row4\" >TB1M</th>\n",
       "      <td id=\"T_4e010_row4_col0\" class=\"data row4 col0\" >6.13%</td>\n",
       "      <td id=\"T_4e010_row4_col1\" class=\"data row4 col1\" >0.71%</td>\n",
       "      <td id=\"T_4e010_row4_col2\" class=\"data row4 col2\" >1.72%</td>\n",
       "      <td id=\"T_4e010_row4_col3\" class=\"data row4 col3\" >0.55%</td>\n",
       "      <td id=\"T_4e010_row4_col4\" class=\"data row4 col4\" >3.18%</td>\n",
       "      <td id=\"T_4e010_row4_col5\" class=\"data row4 col5\" >0.85%</td>\n",
       "    </tr>\n",
       "    <tr>\n",
       "      <th id=\"T_4e010_level1_row5\" class=\"row_heading level1 row5\" >excess_returns</th>\n",
       "      <td id=\"T_4e010_row5_col0\" class=\"data row5 col0\" >5.72%</td>\n",
       "      <td id=\"T_4e010_row5_col1\" class=\"data row5 col1\" >15.12%</td>\n",
       "      <td id=\"T_4e010_row5_col2\" class=\"data row5 col2\" >5.81%</td>\n",
       "      <td id=\"T_4e010_row5_col3\" class=\"data row5 col3\" >15.45%</td>\n",
       "      <td id=\"T_4e010_row5_col4\" class=\"data row5 col4\" >6.57%</td>\n",
       "      <td id=\"T_4e010_row5_col5\" class=\"data row5 col5\" >18.70%</td>\n",
       "    </tr>\n",
       "  </tbody>\n",
       "</table>\n"
      ],
      "text/plain": [
       "<pandas.io.formats.style.Styler at 0x7fa91183b8e0>"
      ]
     },
     "execution_count": 7,
     "metadata": {},
     "output_type": "execute_result"
    }
   ],
   "source": [
    "#Reporting summary statistics\n",
    "\n",
    "agg_years = [(1965, 1999), (2000, 2024), (1926, 2024)]\n",
    "def calc_analytics_by_year(data, agg_years):\n",
    "    res = []\n",
    "    for y in agg_years:\n",
    "        sub = data.loc[str(y[0]):str(y[1])]\n",
    "        res.append({'mean': sub.mean() * 12, 'vol': sub.std() * np.sqrt(12)})\n",
    "    return pd.DataFrame(res, index = [f'{i[0]} - {i[1]}' for i in agg_years]).stack()\n",
    "\n",
    "sum_stats = barnstable_data.apply(calc_analytics_by_year, agg_years = agg_years).T\n",
    "log_sum_stats = np.log(1 + barnstable_data).apply(calc_analytics_by_year, agg_years = agg_years).T\n",
    "\n",
    "res_stats = pd.concat([sum_stats, log_sum_stats])\n",
    "res_stats.index = pd.MultiIndex.from_product([['levels','logs'], sum_stats.index.to_list()])\n",
    "res_stats.style.format('{:,.2%}')\n",
    "\n",
    "\n",
    "\n",
    "\n"
   ]
  },
  {
   "cell_type": "markdown",
   "metadata": {},
   "source": [
    "b) The full sample estimates are \n",
    "\n"
   ]
  },
  {
   "cell_type": "code",
   "execution_count": 9,
   "metadata": {},
   "outputs": [
    {
     "name": "stdout",
     "output_type": "stream",
     "text": [
      "SPX underperforming RF in the next 15 years after 1999: 7.16%\n",
      "SPX underperforming RF in the next 30 years after 1999: 1.92%\n"
     ]
    },
    {
     "data": {
      "text/plain": [
       "<Axes: >"
      ]
     },
     "execution_count": 9,
     "metadata": {},
     "output_type": "execute_result"
    },
    {
     "data": {
      "image/png": "[encoded data removed]",
      "text/plain": [
       "<Figure size 432x288 with 1 Axes>"
      ]
     },
     "metadata": {
      "needs_background": "light"
     },
     "output_type": "display_data"
    }
   ],
   "source": [
    "#Question 2\n",
    "\n",
    "#Calculating the probability that market return is less than risk free return - this is to know when the market has been underperforming\n",
    "from scipy.stats import norm\n",
    "#We first define a function for standard normal function\n",
    "def prob(mu,sigma,h):\n",
    "    return norm.cdf(np.sqrt(h)*mu/sigma)\n",
    "\n",
    "#The sample we include is 1965-1999\n",
    "mu, sigma = res_stats['1965 - 1999'].loc[('logs', 'excess_returns')]\n",
    "\n",
    "print(f'SPX underperforming RF in the next 15 years after 1999: {prob(mu = -mu, sigma = sigma, h = 15):,.2%}')\n",
    "\n",
    "print(f'SPX underperforming RF in the next 30 years after 1999: {prob(mu = -mu, sigma = sigma, h = 30):,.2%}')\n",
    "\n",
    "h = np.arange(30) + 1\n",
    "probs = pd.DataFrame([prob(-mu, sigma, x) for x in h], columns=['Probability of Underperformance'], index = h)\n",
    "probs.plot()\n",
    "\n",
    "\n",
    "\n",
    "\n",
    "\n",
    "\n",
    "\n"
   ]
  },
  {
   "cell_type": "code",
   "execution_count": 27,
   "metadata": {},
   "outputs": [
    {
     "data": {
      "image/png": "[encoded data removed]",
      "text/plain": [
       "<Figure size 432x288 with 1 Axes>"
      ]
     },
     "metadata": {
      "needs_background": "light"
     },
     "output_type": "display_data"
    }
   ],
   "source": [
    "#Calculating the probability of underperformance for new time horizon - 1965 - 2024\n",
    "mu = np.log(1+rets.loc['1965':'2024']).mean() * 12\n",
    "sigma = np.log(1+rets.loc['1965':'2024']).std() * np.sqrt(12)\n",
    "\n",
    "h = np.arange(30)+1\n",
    "\n",
    "probs = pd.DataFrame([prob(mu, sigma, x) for x in h], columns=['Probability of Underperformance'], index = h)\n",
    "probs.plot(title = 'Sample from 1965 to 2024', ylabel = 'Probability', xlabel = 'h periods')\n",
    "plt.show()\n"
   ]
  },
  {
   "cell_type": "code",
   "execution_count": 26,
   "metadata": {},
   "outputs": [
    {
     "name": "stdout",
     "output_type": "stream",
     "text": [
      "Probability of underperformance in 2000-2024: 7.85%\n"
     ]
    }
   ],
   "source": [
    "#Question 4\n",
    "import math\n",
    "mu = (res_stats[('1965 - 1999', 'mean')].loc[('logs', 'SPX')] - res_stats[('2000 - 2024', 'mean')].loc[('logs', 'SPX')])\n",
    "sigma = (res_stats[('1965 - 1999', 'vol')].loc[('logs', 'SPX')])\n",
    "\n",
    "print(f\"Probability of underperformance in 2000-2024: {prob(-mu, sigma, 25):,.2%}\")"
   ]
  }
 ],
 "metadata": {
  "kernelspec": {
   "display_name": "base",
   "language": "python",
   "name": "python3"
  },
  "language_info": {
   "codemirror_mode": {
    "name": "ipython",
    "version": 3
   },
   "file_extension": ".py",
   "mimetype": "text/x-python",
   "name": "python",
   "nbconvert_exporter": "python",
   "pygments_lexer": "ipython3",
   "version": "3.8.5"
  }
 },
 "nbformat": 4,
 "nbformat_minor": 2
}
